{
 "cells": [
  {
   "cell_type": "code",
   "execution_count": 1,
   "id": "47009787",
   "metadata": {},
   "outputs": [
    {
     "name": "stdout",
     "output_type": "stream",
     "text": [
      "Starting packet sniffer...\n"
     ]
    },
    {
     "ename": "PermissionError",
     "evalue": "[WinError 10013] An attempt was made to access a socket in a way forbidden by its access permissions",
     "output_type": "error",
     "traceback": [
      "\u001b[1;31m---------------------------------------------------------------------------\u001b[0m",
      "\u001b[1;31mPermissionError\u001b[0m                           Traceback (most recent call last)",
      "Cell \u001b[1;32mIn[1], line 54\u001b[0m\n\u001b[0;32m     52\u001b[0m \u001b[38;5;66;03m# Start the sniffer\u001b[39;00m\n\u001b[0;32m     53\u001b[0m \u001b[38;5;28mprint\u001b[39m(\u001b[38;5;124m\"\u001b[39m\u001b[38;5;124mStarting packet sniffer...\u001b[39m\u001b[38;5;124m\"\u001b[39m)\n\u001b[1;32m---> 54\u001b[0m create_sniffer()\n",
      "Cell \u001b[1;32mIn[1], line 37\u001b[0m, in \u001b[0;36mcreate_sniffer\u001b[1;34m()\u001b[0m\n\u001b[0;32m     36\u001b[0m \u001b[38;5;28;01mdef\u001b[39;00m \u001b[38;5;21mcreate_sniffer\u001b[39m():\n\u001b[1;32m---> 37\u001b[0m     sniffer \u001b[38;5;241m=\u001b[39m socket\u001b[38;5;241m.\u001b[39msocket(socket\u001b[38;5;241m.\u001b[39mAF_INET, socket\u001b[38;5;241m.\u001b[39mSOCK_RAW, socket\u001b[38;5;241m.\u001b[39mIPPROTO_IP)\n\u001b[0;32m     38\u001b[0m     sniffer\u001b[38;5;241m.\u001b[39mbind((\u001b[38;5;124m\"\u001b[39m\u001b[38;5;124m0.0.0.0\u001b[39m\u001b[38;5;124m\"\u001b[39m, \u001b[38;5;241m0\u001b[39m))\n\u001b[0;32m     39\u001b[0m     sniffer\u001b[38;5;241m.\u001b[39msetsockopt(socket\u001b[38;5;241m.\u001b[39mIPPROTO_IP, socket\u001b[38;5;241m.\u001b[39mIP_HDRINCL, \u001b[38;5;241m1\u001b[39m)\n",
      "File \u001b[1;32m~\\anaconda3\\Lib\\socket.py:232\u001b[0m, in \u001b[0;36msocket.__init__\u001b[1;34m(self, family, type, proto, fileno)\u001b[0m\n\u001b[0;32m    230\u001b[0m     \u001b[38;5;28;01mif\u001b[39;00m proto \u001b[38;5;241m==\u001b[39m \u001b[38;5;241m-\u001b[39m\u001b[38;5;241m1\u001b[39m:\n\u001b[0;32m    231\u001b[0m         proto \u001b[38;5;241m=\u001b[39m \u001b[38;5;241m0\u001b[39m\n\u001b[1;32m--> 232\u001b[0m _socket\u001b[38;5;241m.\u001b[39msocket\u001b[38;5;241m.\u001b[39m\u001b[38;5;21m__init__\u001b[39m(\u001b[38;5;28mself\u001b[39m, family, \u001b[38;5;28mtype\u001b[39m, proto, fileno)\n\u001b[0;32m    233\u001b[0m \u001b[38;5;28mself\u001b[39m\u001b[38;5;241m.\u001b[39m_io_refs \u001b[38;5;241m=\u001b[39m \u001b[38;5;241m0\u001b[39m\n\u001b[0;32m    234\u001b[0m \u001b[38;5;28mself\u001b[39m\u001b[38;5;241m.\u001b[39m_closed \u001b[38;5;241m=\u001b[39m \u001b[38;5;28;01mFalse\u001b[39;00m\n",
      "\u001b[1;31mPermissionError\u001b[0m: [WinError 10013] An attempt was made to access a socket in a way forbidden by its access permissions"
     ]
    }
   ],
   "source": [
    "import socket\n",
    "from scapy.all import IP, TCP, UDP\n",
    "\n",
    "# Function to analyze packets\n",
    "def analyze_packet(packet):\n",
    "    if IP in packet:\n",
    "        ip_src = packet[IP].src\n",
    "        ip_dst = packet[IP].dst\n",
    "        protocol = packet[IP].proto\n",
    "\n",
    "        print(f\"Source IP: {ip_src}\")\n",
    "        print(f\"Destination IP: {ip_dst}\")\n",
    "        print(f\"Protocol: {protocol}\")\n",
    "\n",
    "        if TCP in packet:\n",
    "            tcp_sport = packet[TCP].sport\n",
    "            tcp_dport = packet[TCP].dport\n",
    "            payload = packet[TCP].payload\n",
    "\n",
    "            print(f\"Source Port: {tcp_sport}\")\n",
    "            print(f\"Destination Port: {tcp_dport}\")\n",
    "            print(f\"Payload: {payload}\")\n",
    "\n",
    "        elif UDP in packet:\n",
    "            udp_sport = packet[UDP].sport\n",
    "            udp_dport = packet[UDP].dport\n",
    "            payload = packet[UDP].payload\n",
    "\n",
    "            print(f\"Source Port: {udp_sport}\")\n",
    "            print(f\"Destination Port: {udp_dport}\")\n",
    "            print(f\"Payload: {payload}\")\n",
    "\n",
    "        print(\"\\n\" + \"=\"*50 + \"\\n\")\n",
    "\n",
    "# Create a raw socket\n",
    "def create_sniffer():\n",
    "    sniffer = socket.socket(socket.AF_INET, socket.SOCK_RAW, socket.IPPROTO_IP)\n",
    "    sniffer.bind((\"0.0.0.0\", 0))\n",
    "    sniffer.setsockopt(socket.IPPROTO_IP, socket.IP_HDRINCL, 1)\n",
    "    sniffer.ioctl(socket.SIO_RCVALL, socket.RCVALL_ON)\n",
    "\n",
    "    try:\n",
    "        while True:\n",
    "            raw_data, addr = sniffer.recvfrom(65565)\n",
    "            packet = IP(raw_data)\n",
    "            analyze_packet(packet)\n",
    "    except KeyboardInterrupt:\n",
    "        # Disable promiscuous mode\n",
    "        sniffer.ioctl(socket.SIO_RCVALL, socket.RCVALL_OFF)\n",
    "        print(\"Packet sniffer stopped.\")\n",
    "\n",
    "# Start the sniffer\n",
    "print(\"Starting packet sniffer...\")\n",
    "create_sniffer()\n"
   ]
  },
  {
   "cell_type": "code",
   "execution_count": null,
   "id": "0563fe77",
   "metadata": {},
   "outputs": [],
   "source": []
  }
 ],
 "metadata": {
  "kernelspec": {
   "display_name": "Python 3 (ipykernel)",
   "language": "python",
   "name": "python3"
  },
  "language_info": {
   "codemirror_mode": {
    "name": "ipython",
    "version": 3
   },
   "file_extension": ".py",
   "mimetype": "text/x-python",
   "name": "python",
   "nbconvert_exporter": "python",
   "pygments_lexer": "ipython3",
   "version": "3.11.5"
  }
 },
 "nbformat": 4,
 "nbformat_minor": 5
}
